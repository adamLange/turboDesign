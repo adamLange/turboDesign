{
 "cells": [
  {
   "cell_type": "markdown",
   "metadata": {},
   "source": [
    "# Modelling a centrifugal compressor\n"
   ]
  },
  {
   "cell_type": "code",
   "execution_count": 1,
   "metadata": {},
   "outputs": [],
   "source": [
    "from OCC.Core.BRepTools import breptools_Read\n",
    "from OCC.Core.TopoDS import *\n",
    "from OCC.Core.BRep import BRep_Builder\n",
    "from OCC.Core.gp import *\n",
    "from OCC.Core.BRepBuilderAPI import *\n",
    "from math import pi,degrees,radians\n",
    "from OCC.Core.BRepTools import breptools_Write\n",
    "import OCCUtils\n",
    "import OCCUtils.edge\n",
    "#import numpy as np\n",
    "import OCCUtils.face\n",
    "from OCC.Core.BRepAlgoAPI import *\n",
    "from OCC.Core.BRepMesh import BRepMesh_IncrementalMesh\n",
    "from OCC.Core.BRepAdaptor import *\n",
    "#import HackerCAD\n",
    "from OCC.Core.GCE2d import *\n",
    "from OCC.Core.Geom import *\n",
    "from OCC.Core.BRepPrimAPI import *\n",
    "\n",
    "from OCC.Display.WebGl.jupyter_renderer import JupyterRenderer"
   ]
  },
  {
   "cell_type": "code",
   "execution_count": 2,
   "metadata": {},
   "outputs": [],
   "source": [
    "# Here we load the root_face. The root face is the face where the root\n",
    "# each blade is attached. This face was created in FreeCAD and is loaded\n",
    "# here. It is a revolved b-spline.\n",
    "file_shape = TopoDS_Shape()\n",
    "builder = BRep_Builder()\n",
    "assert breptools_Read(file_shape,\"./root_surface.brep\",builder)\n",
    "root_face = OCCUtils.Topo(file_shape).faces().__next__()"
   ]
  },
  {
   "cell_type": "code",
   "execution_count": 3,
   "metadata": {},
   "outputs": [],
   "source": [
    "renderer = JupyterRenderer()"
   ]
  },
  {
   "cell_type": "code",
   "execution_count": 4,
   "metadata": {},
   "outputs": [],
   "source": [
    "renderer.DisplayShape(root_face)"
   ]
  },
  {
   "cell_type": "code",
   "execution_count": 9,
   "metadata": {},
   "outputs": [
    {
     "data": {
      "application/vnd.jupyter.widget-view+json": {
       "model_id": "c3eec8439c0b4f4ab66ccffffa453a24",
       "version_major": 2,
       "version_minor": 0
      },
      "text/plain": [
       "HBox(children=(VBox(children=(HBox(children=(Checkbox(value=True, description='Axes', layout=Layout(height='au…"
      ]
     },
     "metadata": {},
     "output_type": "display_data"
    },
    {
     "data": {
      "text/plain": []
     },
     "execution_count": 9,
     "metadata": {},
     "output_type": "execute_result"
    }
   ],
   "source": [
    "renderer"
   ]
  },
  {
   "cell_type": "markdown",
   "metadata": {},
   "source": [
    "Here, the root surface is inspected."
   ]
  },
  {
   "cell_type": "code",
   "execution_count": 10,
   "metadata": {},
   "outputs": [],
   "source": [
    "bas = BRepAdaptor_Surface(root_face)"
   ]
  },
  {
   "cell_type": "code",
   "execution_count": 11,
   "metadata": {},
   "outputs": [
    {
     "data": {
      "text/plain": [
       "(0.0, 6.28318530717959)"
      ]
     },
     "execution_count": 11,
     "metadata": {},
     "output_type": "execute_result"
    }
   ],
   "source": [
    "bas.FirstUParameter(), bas.LastUParameter()"
   ]
  },
  {
   "cell_type": "code",
   "execution_count": 12,
   "metadata": {},
   "outputs": [
    {
     "data": {
      "text/plain": [
       "(0.0, 1.0)"
      ]
     },
     "execution_count": 12,
     "metadata": {},
     "output_type": "execute_result"
    }
   ],
   "source": [
    "bas.FirstVParameter(), bas.LastVParameter()"
   ]
  },
  {
   "cell_type": "code",
   "execution_count": 13,
   "metadata": {},
   "outputs": [
    {
     "data": {
      "text/plain": [
       "True"
      ]
     },
     "execution_count": 13,
     "metadata": {},
     "output_type": "execute_result"
    }
   ],
   "source": [
    "bas.IsUPeriodic()"
   ]
  },
  {
   "cell_type": "code",
   "execution_count": 14,
   "metadata": {},
   "outputs": [
    {
     "data": {
      "text/plain": [
       "False"
      ]
     },
     "execution_count": 14,
     "metadata": {},
     "output_type": "execute_result"
    }
   ],
   "source": [
    "bas.IsVPeriodic()"
   ]
  },
  {
   "cell_type": "markdown",
   "metadata": {},
   "source": [
    "### Drawing blade root line on the blade root surface\n",
    "\n",
    "Next I am trying to create an edge on root_face that will be the edge where the compressor blade meets the blade root surface.  In FreeCAD I drew a planar face, and then drew a b-spline on the face.  I will compute the p-curve of the b-spline on the planar face, and then use that p-curve on the the blade root_face to make the blade root edge. As you will see below, I am able to compute the p-curve, but have not been able to make the edge on the blade root face."
   ]
  },
  {
   "cell_type": "code",
   "execution_count": 15,
   "metadata": {},
   "outputs": [],
   "source": [
    "# Planar face\n",
    "ctl_domain_brep_file_contents = TopoDS_Shape()\n",
    "builder = BRep_Builder()\n",
    "assert breptools_Read(ctl_domain_brep_file_contents,\"./ctl_domain.brep\",builder)\n",
    "face_ctl_domain = OCCUtils.Topo(ctl_domain_brep_file_contents).faces().__next__()\n",
    "del ctl_domain_brep_file_contents"
   ]
  },
  {
   "cell_type": "code",
   "execution_count": 16,
   "metadata": {},
   "outputs": [],
   "source": [
    "renderer.DisplayShape(face_ctl_domain)"
   ]
  },
  {
   "cell_type": "code",
   "execution_count": 17,
   "metadata": {},
   "outputs": [],
   "source": [
    "# b-spline on planar face\n",
    "file_contents = TopoDS_Shape()\n",
    "builder = BRep_Builder()\n",
    "assert breptools_Read(file_contents,\"./root_curve_on_ctl_domain.brep\",builder)\n",
    "edge_root_curve_3d_on_ctl_domain = OCCUtils.Topo(file_contents).edges().__next__()\n",
    "del file_contents"
   ]
  },
  {
   "cell_type": "code",
   "execution_count": 18,
   "metadata": {},
   "outputs": [],
   "source": [
    "bas_ctl_domain = BRepAdaptor_Surface(face_ctl_domain)"
   ]
  },
  {
   "cell_type": "code",
   "execution_count": 19,
   "metadata": {},
   "outputs": [
    {
     "data": {
      "text/plain": [
       "(-200.0, 200.0)"
      ]
     },
     "execution_count": 19,
     "metadata": {},
     "output_type": "execute_result"
    }
   ],
   "source": [
    "bas_ctl_domain.FirstUParameter(),bas_ctl_domain.LastUParameter()"
   ]
  },
  {
   "cell_type": "code",
   "execution_count": 20,
   "metadata": {},
   "outputs": [
    {
     "data": {
      "text/plain": [
       "(-50.0, 50.0)"
      ]
     },
     "execution_count": 20,
     "metadata": {},
     "output_type": "execute_result"
    }
   ],
   "source": [
    "bas_ctl_domain.FirstVParameter(),bas_ctl_domain.LastVParameter()"
   ]
  },
  {
   "cell_type": "code",
   "execution_count": 21,
   "metadata": {},
   "outputs": [
    {
     "data": {
      "text/plain": [
       "< gp_Pnt: 200.0, 50.0, 0.0 >"
      ]
     },
     "execution_count": 21,
     "metadata": {},
     "output_type": "execute_result"
    }
   ],
   "source": [
    "bas_ctl_domain.Value(0,0)"
   ]
  },
  {
   "cell_type": "code",
   "execution_count": 22,
   "metadata": {},
   "outputs": [],
   "source": [
    "bac = BRepAdaptor_Curve(edge_root_curve_3d_on_ctl_domain,face_ctl_domain)"
   ]
  },
  {
   "cell_type": "code",
   "execution_count": 23,
   "metadata": {},
   "outputs": [],
   "source": [
    "cos = bac.CurveOnSurface()"
   ]
  },
  {
   "cell_type": "code",
   "execution_count": 24,
   "metadata": {},
   "outputs": [],
   "source": [
    "hcurve = cos.GetCurve()"
   ]
  },
  {
   "cell_type": "code",
   "execution_count": 25,
   "metadata": {},
   "outputs": [
    {
     "data": {
      "text/plain": [
       "OCC.Core.Adaptor2d.Adaptor2d_HCurve2d"
      ]
     },
     "execution_count": 25,
     "metadata": {},
     "output_type": "execute_result"
    }
   ],
   "source": [
    "hcurve.__class__"
   ]
  },
  {
   "cell_type": "code",
   "execution_count": 26,
   "metadata": {},
   "outputs": [
    {
     "data": {
      "text/plain": [
       "OCC.Core.GeomAdaptor.GeomAdaptor_Surface"
      ]
     },
     "execution_count": 26,
     "metadata": {},
     "output_type": "execute_result"
    }
   ],
   "source": [
    "gas = bas.Surface()\n",
    "gas.__class__"
   ]
  },
  {
   "cell_type": "code",
   "execution_count": 27,
   "metadata": {},
   "outputs": [],
   "source": [
    "surf = bas.Surface().Surface()"
   ]
  },
  {
   "cell_type": "code",
   "execution_count": 28,
   "metadata": {},
   "outputs": [
    {
     "data": {
      "text/plain": [
       "<class 'Geom_Surface'>"
      ]
     },
     "execution_count": 28,
     "metadata": {},
     "output_type": "execute_result"
    }
   ],
   "source": [
    "surf"
   ]
  },
  {
   "cell_type": "code",
   "execution_count": 29,
   "metadata": {},
   "outputs": [
    {
     "ename": "NotImplementedError",
     "evalue": "Wrong number or type of arguments for overloaded function 'new_BRepBuilderAPI_MakeFace'.\n  Possible C/C++ prototypes are:\n    BRepBuilderAPI_MakeFace::BRepBuilderAPI_MakeFace()\n    BRepBuilderAPI_MakeFace::BRepBuilderAPI_MakeFace(TopoDS_Face const &)\n    BRepBuilderAPI_MakeFace::BRepBuilderAPI_MakeFace(gp_Pln const &)\n    BRepBuilderAPI_MakeFace::BRepBuilderAPI_MakeFace(gp_Cylinder const &)\n    BRepBuilderAPI_MakeFace::BRepBuilderAPI_MakeFace(gp_Cone const &)\n    BRepBuilderAPI_MakeFace::BRepBuilderAPI_MakeFace(gp_Sphere const &)\n    BRepBuilderAPI_MakeFace::BRepBuilderAPI_MakeFace(gp_Torus const &)\n    BRepBuilderAPI_MakeFace::BRepBuilderAPI_MakeFace(opencascade::handle< Geom_Surface > const &,Standard_Real const)\n    BRepBuilderAPI_MakeFace::BRepBuilderAPI_MakeFace(gp_Pln const &,Standard_Real const,Standard_Real const,Standard_Real const,Standard_Real const)\n    BRepBuilderAPI_MakeFace::BRepBuilderAPI_MakeFace(gp_Cylinder const &,Standard_Real const,Standard_Real const,Standard_Real const,Standard_Real const)\n    BRepBuilderAPI_MakeFace::BRepBuilderAPI_MakeFace(gp_Cone const &,Standard_Real const,Standard_Real const,Standard_Real const,Standard_Real const)\n    BRepBuilderAPI_MakeFace::BRepBuilderAPI_MakeFace(gp_Sphere const &,Standard_Real const,Standard_Real const,Standard_Real const,Standard_Real const)\n    BRepBuilderAPI_MakeFace::BRepBuilderAPI_MakeFace(gp_Torus const &,Standard_Real const,Standard_Real const,Standard_Real const,Standard_Real const)\n    BRepBuilderAPI_MakeFace::BRepBuilderAPI_MakeFace(opencascade::handle< Geom_Surface > const &,Standard_Real const,Standard_Real const,Standard_Real const,Standard_Real const,Standard_Real const)\n    BRepBuilderAPI_MakeFace::BRepBuilderAPI_MakeFace(TopoDS_Wire const &,Standard_Boolean const)\n    BRepBuilderAPI_MakeFace::BRepBuilderAPI_MakeFace(gp_Pln const &,TopoDS_Wire const &,Standard_Boolean const)\n    BRepBuilderAPI_MakeFace::BRepBuilderAPI_MakeFace(gp_Cylinder const &,TopoDS_Wire const &,Standard_Boolean const)\n    BRepBuilderAPI_MakeFace::BRepBuilderAPI_MakeFace(gp_Cone const &,TopoDS_Wire const &,Standard_Boolean const)\n    BRepBuilderAPI_MakeFace::BRepBuilderAPI_MakeFace(gp_Sphere const &,TopoDS_Wire const &,Standard_Boolean const)\n    BRepBuilderAPI_MakeFace::BRepBuilderAPI_MakeFace(gp_Torus const &,TopoDS_Wire const &,Standard_Boolean const)\n    BRepBuilderAPI_MakeFace::BRepBuilderAPI_MakeFace(opencascade::handle< Geom_Surface > const &,TopoDS_Wire const &,Standard_Boolean const)\n    BRepBuilderAPI_MakeFace::BRepBuilderAPI_MakeFace(TopoDS_Face const &,TopoDS_Wire const &)\n",
     "output_type": "error",
     "traceback": [
      "\u001b[0;31m---------------------------------------------------------------------------\u001b[0m",
      "\u001b[0;31mNotImplementedError\u001b[0m                       Traceback (most recent call last)",
      "\u001b[0;32m<ipython-input-29-1eb674e8e7a1>\u001b[0m in \u001b[0;36m<module>\u001b[0;34m()\u001b[0m\n\u001b[0;32m----> 1\u001b[0;31m \u001b[0mmf\u001b[0m \u001b[0;34m=\u001b[0m \u001b[0mBRepBuilderAPI_MakeFace\u001b[0m\u001b[0;34m(\u001b[0m\u001b[0mhcurve\u001b[0m\u001b[0;34m,\u001b[0m\u001b[0mbas\u001b[0m\u001b[0;34m)\u001b[0m\u001b[0;34m\u001b[0m\u001b[0;34m\u001b[0m\u001b[0m\n\u001b[0m",
      "\u001b[0;32m/home/adam/projects/pythonocc/pythonocc-core/build_d865640cad/install/usr/lib/python3/dist-packages/OCC/Core/BRepBuilderAPI.py\u001b[0m in \u001b[0;36m__init__\u001b[0;34m(self, *args)\u001b[0m\n\u001b[1;32m   3307\u001b[0m \u001b[0;34m\u001b[0m\u001b[0m\n\u001b[1;32m   3308\u001b[0m         \"\"\"\n\u001b[0;32m-> 3309\u001b[0;31m         \u001b[0mthis\u001b[0m \u001b[0;34m=\u001b[0m \u001b[0m_BRepBuilderAPI\u001b[0m\u001b[0;34m.\u001b[0m\u001b[0mnew_BRepBuilderAPI_MakeFace\u001b[0m\u001b[0;34m(\u001b[0m\u001b[0;34m*\u001b[0m\u001b[0margs\u001b[0m\u001b[0;34m)\u001b[0m\u001b[0;34m\u001b[0m\u001b[0;34m\u001b[0m\u001b[0m\n\u001b[0m\u001b[1;32m   3310\u001b[0m         \u001b[0;32mtry\u001b[0m\u001b[0;34m:\u001b[0m\u001b[0;34m\u001b[0m\u001b[0;34m\u001b[0m\u001b[0m\n\u001b[1;32m   3311\u001b[0m             \u001b[0mself\u001b[0m\u001b[0;34m.\u001b[0m\u001b[0mthis\u001b[0m\u001b[0;34m.\u001b[0m\u001b[0mappend\u001b[0m\u001b[0;34m(\u001b[0m\u001b[0mthis\u001b[0m\u001b[0;34m)\u001b[0m\u001b[0;34m\u001b[0m\u001b[0;34m\u001b[0m\u001b[0m\n",
      "\u001b[0;31mNotImplementedError\u001b[0m: Wrong number or type of arguments for overloaded function 'new_BRepBuilderAPI_MakeFace'.\n  Possible C/C++ prototypes are:\n    BRepBuilderAPI_MakeFace::BRepBuilderAPI_MakeFace()\n    BRepBuilderAPI_MakeFace::BRepBuilderAPI_MakeFace(TopoDS_Face const &)\n    BRepBuilderAPI_MakeFace::BRepBuilderAPI_MakeFace(gp_Pln const &)\n    BRepBuilderAPI_MakeFace::BRepBuilderAPI_MakeFace(gp_Cylinder const &)\n    BRepBuilderAPI_MakeFace::BRepBuilderAPI_MakeFace(gp_Cone const &)\n    BRepBuilderAPI_MakeFace::BRepBuilderAPI_MakeFace(gp_Sphere const &)\n    BRepBuilderAPI_MakeFace::BRepBuilderAPI_MakeFace(gp_Torus const &)\n    BRepBuilderAPI_MakeFace::BRepBuilderAPI_MakeFace(opencascade::handle< Geom_Surface > const &,Standard_Real const)\n    BRepBuilderAPI_MakeFace::BRepBuilderAPI_MakeFace(gp_Pln const &,Standard_Real const,Standard_Real const,Standard_Real const,Standard_Real const)\n    BRepBuilderAPI_MakeFace::BRepBuilderAPI_MakeFace(gp_Cylinder const &,Standard_Real const,Standard_Real const,Standard_Real const,Standard_Real const)\n    BRepBuilderAPI_MakeFace::BRepBuilderAPI_MakeFace(gp_Cone const &,Standard_Real const,Standard_Real const,Standard_Real const,Standard_Real const)\n    BRepBuilderAPI_MakeFace::BRepBuilderAPI_MakeFace(gp_Sphere const &,Standard_Real const,Standard_Real const,Standard_Real const,Standard_Real const)\n    BRepBuilderAPI_MakeFace::BRepBuilderAPI_MakeFace(gp_Torus const &,Standard_Real const,Standard_Real const,Standard_Real const,Standard_Real const)\n    BRepBuilderAPI_MakeFace::BRepBuilderAPI_MakeFace(opencascade::handle< Geom_Surface > const &,Standard_Real const,Standard_Real const,Standard_Real const,Standard_Real const,Standard_Real const)\n    BRepBuilderAPI_MakeFace::BRepBuilderAPI_MakeFace(TopoDS_Wire const &,Standard_Boolean const)\n    BRepBuilderAPI_MakeFace::BRepBuilderAPI_MakeFace(gp_Pln const &,TopoDS_Wire const &,Standard_Boolean const)\n    BRepBuilderAPI_MakeFace::BRepBuilderAPI_MakeFace(gp_Cylinder const &,TopoDS_Wire const &,Standard_Boolean const)\n    BRepBuilderAPI_MakeFace::BRepBuilderAPI_MakeFace(gp_Cone const &,TopoDS_Wire const &,Standard_Boolean const)\n    BRepBuilderAPI_MakeFace::BRepBuilderAPI_MakeFace(gp_Sphere const &,TopoDS_Wire const &,Standard_Boolean const)\n    BRepBuilderAPI_MakeFace::BRepBuilderAPI_MakeFace(gp_Torus const &,TopoDS_Wire const &,Standard_Boolean const)\n    BRepBuilderAPI_MakeFace::BRepBuilderAPI_MakeFace(opencascade::handle< Geom_Surface > const &,TopoDS_Wire const &,Standard_Boolean const)\n    BRepBuilderAPI_MakeFace::BRepBuilderAPI_MakeFace(TopoDS_Face const &,TopoDS_Wire const &)\n"
     ]
    }
   ],
   "source": [
    "mf = BRepBuilderAPI_MakeFace(hcurve,bas)"
   ]
  },
  {
   "cell_type": "code",
   "execution_count": null,
   "metadata": {},
   "outputs": [],
   "source": []
  }
 ],
 "metadata": {
  "kernelspec": {
   "display_name": "Python 3",
   "language": "python",
   "name": "python3"
  },
  "language_info": {
   "codemirror_mode": {
    "name": "ipython",
    "version": 3
   },
   "file_extension": ".py",
   "mimetype": "text/x-python",
   "name": "python",
   "nbconvert_exporter": "python",
   "pygments_lexer": "ipython3",
   "version": "3.6.9"
  }
 },
 "nbformat": 4,
 "nbformat_minor": 4
}
